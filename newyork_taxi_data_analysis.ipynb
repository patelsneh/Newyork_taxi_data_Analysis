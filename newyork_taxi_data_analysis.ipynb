{
 "cells": [
  {
   "cell_type": "code",
   "execution_count": 6,
   "metadata": {},
   "outputs": [],
   "source": [
    "# generic modules\n",
    "import itertools\n",
    "import os\n",
    "import re\n",
    "import timeit\n",
    "import gc\n",
    "\n",
    "# specific module\n",
    "#import wget\n",
    "\n",
    "# common ds modules\n",
    "import pandas as pd\n",
    "#import plotly.express as px\n",
    "\n",
    "# spark modules for session managment\n",
    "from pyspark import SparkConf\n",
    "from pyspark import SparkContext\n",
    "from pyspark.sql import SparkSession\n",
    "\n",
    "# spark functions\n",
    "from pyspark.sql.functions import lit\n",
    "import pyspark.sql.functions as sparkle\n",
    "\n",
    "# spark types\n",
    "from pyspark.sql.types import *\n",
    "\n",
    "# spark ml\n",
    "from pyspark.ml import Pipeline\n",
    "from pyspark.ml.feature import OneHotEncoderEstimator, StringIndexer, VectorAssembler\n",
    "from pyspark.ml.regression import GeneralizedLinearRegression\n",
    "from pyspark.ml.regression import LinearRegression\n",
    "from pyspark.ml.regression import GBTRegressor\n",
    "from pyspark.ml.evaluation import RegressionEvaluator"
   ]
  },
  {
   "cell_type": "code",
   "execution_count": 21,
   "metadata": {},
   "outputs": [],
   "source": [
    "# session starter named nyctaxi\n",
    "spark=SparkSession.builder \\\n",
    "    .appName('nyctaxi') \\\n",
    "    .master('local[12]') \\\n",
    "    .config(\"spark.driver.maxResultSize\", \"3g\") \\\n",
    "    .config(\"spark.sql.execution.arrow.pyspark.enabled\", \"true\") \\\n",
    "    .config(\"spark.sql.execution.arrow.maxRecordsPerBatch\", \"15000\") \\\n",
    "    .config(\"spark.sql.tungsten.enabled\", \"true\") \\\n",
    "    .config(\"spark.sql.shuffle.partitions\", \"360\") \\\n",
    "    .config(\"spark.rdd.compress\", \"true\") \\\n",
    "    .getOrCreate()\n",
    "\n",
    "#     .config(\"spark.sql.default.parallelism\", \"360\") \\ "
   ]
  },
  {
   "cell_type": "code",
   "execution_count": 19,
   "metadata": {},
   "outputs": [
    {
     "data": {
      "text/plain": [
       "DataFrame[_c0: string, _c1: string, _c2: string, _c3: string, _c4: string, _c5: string, _c6: string, _c7: string, _c8: string, _c9: string, _c10: string, _c11: string, _c12: string, _c13: string, _c14: string, _c15: string, _c16: string, _c17: string]"
      ]
     },
     "execution_count": 19,
     "metadata": {},
     "output_type": "execute_result"
    }
   ],
   "source": [
    "spark.read.csv(\"Dataset/yellow_tripdata_2020-01.csv\")"
   ]
  },
  {
   "cell_type": "code",
   "execution_count": 22,
   "metadata": {},
   "outputs": [],
   "source": [
    "# reads directory, filters for csv's and feeds into loop to convert to parquet\n",
    "files=[re.search(r\"(.*)(\\.csv)$\", file).group(1) for file in os.listdir(\"./Dataset/\") if file.endswith(\".csv\")]\n",
    "for file in files:\n",
    "    inpath = f\"./Dataset/{file}.csv\"\n",
    "    readdf = spark.read.csv(inpath, header = \"true\")\n",
    "    outpath = f\"./Dataset/prq/{file}.parquet\"\n",
    "    readdf.write.parquet(outpath)"
   ]
  },
  {
   "cell_type": "code",
   "execution_count": null,
   "metadata": {},
   "outputs": [],
   "source": []
  }
 ],
 "metadata": {
  "kernelspec": {
   "display_name": "Python 3",
   "language": "python",
   "name": "python3"
  },
  "language_info": {
   "codemirror_mode": {
    "name": "ipython",
    "version": 3
   },
   "file_extension": ".py",
   "mimetype": "text/x-python",
   "name": "python",
   "nbconvert_exporter": "python",
   "pygments_lexer": "ipython3",
   "version": "3.7.6"
  }
 },
 "nbformat": 4,
 "nbformat_minor": 4
}
