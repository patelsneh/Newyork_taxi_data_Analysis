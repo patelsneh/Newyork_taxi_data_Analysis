{
  "nbformat": 4,
  "nbformat_minor": 0,
  "metadata": {
    "kernelspec": {
      "display_name": "Python 3",
      "language": "python",
      "name": "python3"
    },
    "language_info": {
      "codemirror_mode": {
        "name": "ipython",
        "version": 3
      },
      "file_extension": ".py",
      "mimetype": "text/x-python",
      "name": "python",
      "nbconvert_exporter": "python",
      "pygments_lexer": "ipython3",
      "version": "3.7.6"
    },
    "colab": {
      "name": "newyork_taxi_data_analysis.ipynb",
      "provenance": []
    }
  },
  "cells": [
    {
      "cell_type": "markdown",
      "metadata": {
        "id": "5f92IhDP90Pg"
      },
      "source": [
        "# New York Taxi Data Analysis \n",
        "Group-9"
      ]
    },
    {
      "cell_type": "markdown",
      "metadata": {
        "id": "7hhnHOJX90Pk"
      },
      "source": [
        "## Setup"
      ]
    },
    {
      "cell_type": "code",
      "metadata": {
        "id": "w9HNFGsm90Pm"
      },
      "source": [
        "# generic modules\n",
        "import itertools\n",
        "import os\n",
        "import re\n",
        "import timeit\n",
        "import gc\n",
        "\n",
        "# specific module\n",
        "#import wget\n",
        "\n",
        "# common ds modules\n",
        "import pandas as pd\n",
        "#import plotly.express as px\n",
        "\n",
        "# spark modules for session managment\n",
        "from pyspark import SparkConf\n",
        "from pyspark import SparkContext\n",
        "from pyspark.sql import SparkSession\n",
        "\n",
        "# spark functions\n",
        "from pyspark.sql.functions import lit\n",
        "import pyspark.sql.functions as sparkle\n",
        "\n",
        "# spark types\n",
        "from pyspark.sql.types import *\n",
        "\n",
        "# spark ml\n",
        "from pyspark.ml import Pipeline\n",
        "from pyspark.ml.feature import OneHotEncoderEstimator, StringIndexer, VectorAssembler\n",
        "from pyspark.ml.regression import GeneralizedLinearRegression\n",
        "from pyspark.ml.regression import LinearRegression\n",
        "from pyspark.ml.regression import GBTRegressor\n",
        "from pyspark.ml.evaluation import RegressionEvaluator"
      ],
      "execution_count": null,
      "outputs": []
    },
    {
      "cell_type": "code",
      "metadata": {
        "id": "YczDFOUi90Pn",
        "outputId": "0095710f-f5f4-4250-9512-5d25cd930ef7"
      },
      "source": [
        "# session starter named nyctaxi\n",
        "spark=SparkSession.builder \\\n",
        "    .appName('nyctaxi') \\\n",
        "    .master('local[*]') \\\n",
        "    .config('spark.driver.memory','10G') \\\n",
        "    .getOrCreate()\n",
        "\n",
        "\n",
        "#     .config(\"spark.sql.default.parallelism\", \"360\") \\ \n",
        "'''\n",
        ".config(\"spark.driver.maxResultSize\", \"8g\") \\\n",
        "    \n",
        "    .config(\"spark.sql.execution.arrow.pyspark.enabled\", \"true\") \\\n",
        "    .config(\"spark.sql.execution.arrow.maxRecordsPerBatch\", \"150000\") \\\n",
        "    .config(\"spark.sql.tungsten.enabled\", \"true\") \\\n",
        "    .config(\"spark.sql.shuffle.partitions\", \"360\") \\\n",
        "    .config(\"spark.rdd.compress\", \"true\") \\\n",
        "'''"
      ],
      "execution_count": null,
      "outputs": [
        {
          "output_type": "execute_result",
          "data": {
            "text/plain": [
              "'\\n.config(\"spark.driver.maxResultSize\", \"8g\")     \\n    .config(\"spark.sql.execution.arrow.pyspark.enabled\", \"true\")     .config(\"spark.sql.execution.arrow.maxRecordsPerBatch\", \"150000\")     .config(\"spark.sql.tungsten.enabled\", \"true\")     .config(\"spark.sql.shuffle.partitions\", \"360\")     .config(\"spark.rdd.compress\", \"true\") '"
            ]
          },
          "metadata": {
            "tags": []
          },
          "execution_count": 2
        }
      ]
    },
    {
      "cell_type": "markdown",
      "metadata": {
        "id": "d3DMx8H190P2"
      },
      "source": [
        "## Download Data from the website in to docker container\n",
        "https://www1.nyc.gov/site/tlc/about/tlc-trip-record-data.page"
      ]
    },
    {
      "cell_type": "code",
      "metadata": {
        "id": "lM1WTU8c90P2",
        "outputId": "39aedc46-69a6-4988-efca-0958e7426405"
      },
      "source": [
        "#spark.read.csv(\"Dataset/yellow-2019-01.csv\")"
      ],
      "execution_count": null,
      "outputs": [
        {
          "output_type": "execute_result",
          "data": {
            "text/plain": [
              "DataFrame[_c0: string, _c1: string, _c2: string, _c3: string, _c4: string, _c5: string, _c6: string, _c7: string, _c8: string, _c9: string, _c10: string, _c11: string, _c12: string, _c13: string, _c14: string, _c15: string, _c16: string, _c17: string]"
            ]
          },
          "metadata": {
            "tags": []
          },
          "execution_count": 3
        }
      ]
    },
    {
      "cell_type": "markdown",
      "metadata": {
        "id": "bx7QLkWQ90P4"
      },
      "source": [
        "## Converting CSV to Initial Parquet"
      ]
    },
    {
      "cell_type": "code",
      "metadata": {
        "id": "jkP2F0iI90P6"
      },
      "source": [
        "# reads directory, filters for csv's and feeds into loop to convert to parquet\n",
        "files=[re.search(r\"(.*)(\\.csv)$\", file).group(1) for file in os.listdir(\"./Dataset/\") if file.endswith(\".csv\")]\n",
        "for file in files:\n",
        "    inpath = f\"./Dataset/{file}.csv\"\n",
        "    readdf = spark.read.csv(inpath, header = \"true\")\n",
        "    outpath = f\"./Dataset/prq/{file}.parquet\"\n",
        "    readdf.write.parquet(outpath)"
      ],
      "execution_count": null,
      "outputs": []
    },
    {
      "cell_type": "code",
      "metadata": {
        "id": "GSD8oDg990P7"
      },
      "source": [
        "colours=['yellow']"
      ],
      "execution_count": null,
      "outputs": []
    },
    {
      "cell_type": "markdown",
      "metadata": {
        "id": "Y48SDxSF90P8"
      },
      "source": [
        "## Combining Dirty Data with color of taxi"
      ]
    },
    {
      "cell_type": "code",
      "metadata": {
        "id": "h4rxMBWK90P8"
      },
      "source": [
        "# combines month data into single file per colour\n",
        "for colour in colours:\n",
        "    # uses a sample of the first dataset to create and empty df with correct format to join to\n",
        "    initpath = f\"./Dataset/prq/{colour}-2019-01.parquet\"\n",
        "    outdf = spark.read.parquet(initpath)\n",
        "    outdf = outdf.limit(0)\n",
        "    # get files for loop\n",
        "    files = [re.search(r\"(.*)(\\.parquet)$\", file).group(1) for file in os.listdir(\"./Dataset/prq\") if file.endswith(\".parquet\") and file.startswith(colour)]\n",
        "    for file in files:\n",
        "        inpath = f\"./Dataset/prq/{file}.parquet\"\n",
        "        readdf = spark.read.parquet(inpath)\n",
        "        # !! unionByName !! ensures columns match union method can result in incorrect mapping\n",
        "        outdf = outdf.unionByName(readdf)\n",
        "    outpath = f\"./data/{colour}-all.parquet\"\n",
        "    outdf.write.parquet(outpath)"
      ],
      "execution_count": null,
      "outputs": []
    },
    {
      "cell_type": "code",
      "metadata": {
        "id": "M5CasYW190QA",
        "outputId": "33876c4c-535f-42da-f83d-6169aa2fd5a5"
      },
      "source": [
        "# read and check columns\n",
        "yellowdf = spark.read.parquet(\"./data/yellow-all.parquet\")\n",
        "yellowdf.columns"
      ],
      "execution_count": null,
      "outputs": [
        {
          "output_type": "execute_result",
          "data": {
            "text/plain": [
              "['VendorID',\n",
              " 'tpep_pickup_datetime',\n",
              " 'tpep_dropoff_datetime',\n",
              " 'passenger_count',\n",
              " 'trip_distance',\n",
              " 'RatecodeID',\n",
              " 'store_and_fwd_flag',\n",
              " 'PULocationID',\n",
              " 'DOLocationID',\n",
              " 'payment_type',\n",
              " 'fare_amount',\n",
              " 'extra',\n",
              " 'mta_tax',\n",
              " 'tip_amount',\n",
              " 'tolls_amount',\n",
              " 'improvement_surcharge',\n",
              " 'total_amount',\n",
              " 'congestion_surcharge']"
            ]
          },
          "metadata": {
            "tags": []
          },
          "execution_count": 7
        }
      ]
    },
    {
      "cell_type": "code",
      "metadata": {
        "id": "9PwjKmiB90QC"
      },
      "source": [
        "# pass data to next stage\n",
        "data = yellowdf"
      ],
      "execution_count": null,
      "outputs": []
    },
    {
      "cell_type": "markdown",
      "metadata": {
        "id": "G6ciVu5R90QD"
      },
      "source": [
        "## Uncleaned Full Dataset"
      ]
    },
    {
      "cell_type": "code",
      "metadata": {
        "id": "1WOlQI4s90QF",
        "outputId": "c548c5fd-f7ad-4402-c3b5-1af20372b732"
      },
      "source": [
        "# check record numbers match\n",
        "data.count()"
      ],
      "execution_count": null,
      "outputs": [
        {
          "output_type": "execute_result",
          "data": {
            "text/plain": [
              "7667792"
            ]
          },
          "metadata": {
            "tags": []
          },
          "execution_count": 9
        }
      ]
    },
    {
      "cell_type": "code",
      "metadata": {
        "id": "uEslnHh590QG"
      },
      "source": [
        "# transform dataframe \n",
        "# add new missing columns with releveant value\n",
        "yellowdf = yellowdf.withColumn('trip_type', lit(\"1\"))\n",
        "yellowdf = yellowdf.withColumn('ehail_fee', lit(\"0\"))\n",
        "# create colour variable to track dataset\n",
        "yellowdf = yellowdf.withColumn('colour', lit(\"yellow\"))\n",
        "yellowdf = yellowdf.withColumnRenamed(\"tpep_pickup_datetime\", \"pickup_datetime\")\n",
        "yellowdf = yellowdf.withColumnRenamed(\"tpep_dropoff_datetime\", \"dropoff_datetime\")"
      ],
      "execution_count": null,
      "outputs": []
    },
    {
      "cell_type": "code",
      "metadata": {
        "id": "U4EL8c9h90QH"
      },
      "source": [
        "# pass data to next stage\n",
        "data = yellowdf"
      ],
      "execution_count": null,
      "outputs": []
    },
    {
      "cell_type": "code",
      "metadata": {
        "id": "yMx8pJKJ90QI",
        "outputId": "988aae3a-0286-45ca-f03f-d3fb0c201616"
      },
      "source": [
        "# intial schema not imputed as no cleaning done\n",
        "data.printSchema()"
      ],
      "execution_count": null,
      "outputs": [
        {
          "output_type": "stream",
          "text": [
            "root\n",
            " |-- VendorID: string (nullable = true)\n",
            " |-- pickup_datetime: string (nullable = true)\n",
            " |-- dropoff_datetime: string (nullable = true)\n",
            " |-- passenger_count: string (nullable = true)\n",
            " |-- trip_distance: string (nullable = true)\n",
            " |-- RatecodeID: string (nullable = true)\n",
            " |-- store_and_fwd_flag: string (nullable = true)\n",
            " |-- PULocationID: string (nullable = true)\n",
            " |-- DOLocationID: string (nullable = true)\n",
            " |-- payment_type: string (nullable = true)\n",
            " |-- fare_amount: string (nullable = true)\n",
            " |-- extra: string (nullable = true)\n",
            " |-- mta_tax: string (nullable = true)\n",
            " |-- tip_amount: string (nullable = true)\n",
            " |-- tolls_amount: string (nullable = true)\n",
            " |-- improvement_surcharge: string (nullable = true)\n",
            " |-- total_amount: string (nullable = true)\n",
            " |-- congestion_surcharge: string (nullable = true)\n",
            " |-- trip_type: string (nullable = false)\n",
            " |-- ehail_fee: string (nullable = false)\n",
            " |-- colour: string (nullable = false)\n",
            "\n"
          ],
          "name": "stdout"
        }
      ]
    },
    {
      "cell_type": "code",
      "metadata": {
        "id": "Xrs80T-s90QJ"
      },
      "source": [
        "# create view for spark.sql queries\n",
        "data.createOrReplaceTempView(\"data_init_view\")"
      ],
      "execution_count": null,
      "outputs": []
    },
    {
      "cell_type": "markdown",
      "metadata": {
        "id": "_YKW6W4c90QL"
      },
      "source": [
        "## Grouping by Colour"
      ]
    },
    {
      "cell_type": "code",
      "metadata": {
        "id": "E-oHWD5i90QL",
        "outputId": "e152d771-0496-4bb3-e654-17398302f4e1"
      },
      "source": [
        "# SQL query, group by relevent variable and create count to check splits\n",
        "spark.sql(\"\"\"\n",
        "            SELECT colour, count(colour)\n",
        "            FROM data_init_view\n",
        "            GROUP by colour\n",
        "        \"\"\").show()"
      ],
      "execution_count": null,
      "outputs": [
        {
          "output_type": "stream",
          "text": [
            "+------+-------------+\n",
            "|colour|count(colour)|\n",
            "+------+-------------+\n",
            "|yellow|      7667792|\n",
            "+------+-------------+\n",
            "\n"
          ],
          "name": "stdout"
        }
      ]
    },
    {
      "cell_type": "markdown",
      "metadata": {
        "id": "BAk0bL_Q90QM"
      },
      "source": [
        "## VendorID\n",
        "Should be 1 or 2\n",
        "   - 1-Creative Mobile Technologies\n",
        "   - 2-Verifone INC.\n",
        "    \n",
        "- VendorId=4 contains 230,613 records?\n",
        "- Ratecodes include 99 for VendorId=4 which is invalid it should be in range of 1-6"
      ]
    },
    {
      "cell_type": "code",
      "metadata": {
        "id": "nMfJ8mVy90QN",
        "outputId": "88e76119-5a5f-4cbf-9c41-2bc2cb9a0478"
      },
      "source": [
        "spark.sql(\"\"\"\n",
        "            SELECT VendorID, count(VendorID)\n",
        "            FROM data_init_view\n",
        "            GROUP by VendorID\n",
        "        \"\"\").show()"
      ],
      "execution_count": null,
      "outputs": [
        {
          "output_type": "stream",
          "text": [
            "+--------+---------------+\n",
            "|VendorID|count(VendorID)|\n",
            "+--------+---------------+\n",
            "|       1|        2938778|\n",
            "|       4|          76823|\n",
            "|       2|        4652191|\n",
            "+--------+---------------+\n",
            "\n"
          ],
          "name": "stdout"
        }
      ]
    },
    {
      "cell_type": "code",
      "metadata": {
        "id": "dQ3EdCnt90QQ",
        "outputId": "b3183f80-45cf-485b-a1f1-534003da8051"
      },
      "source": [
        "spark.sql(\"\"\"\n",
        "            SELECT *\n",
        "            FROM data_init_view\n",
        "            WHERE VendorID == 4\n",
        "        \"\"\").show()"
      ],
      "execution_count": null,
      "outputs": [
        {
          "output_type": "stream",
          "text": [
            "+--------+-------------------+-------------------+---------------+-------------+----------+------------------+------------+------------+------------+-----------+-----+-------+----------+------------+---------------------+------------+--------------------+---------+---------+------+\n",
            "|VendorID|    pickup_datetime|   dropoff_datetime|passenger_count|trip_distance|RatecodeID|store_and_fwd_flag|PULocationID|DOLocationID|payment_type|fare_amount|extra|mta_tax|tip_amount|tolls_amount|improvement_surcharge|total_amount|congestion_surcharge|trip_type|ehail_fee|colour|\n",
            "+--------+-------------------+-------------------+---------------+-------------+----------+------------------+------------+------------+------------+-----------+-----+-------+----------+------------+---------------------+------------+--------------------+---------+---------+------+\n",
            "|       4|2019-01-25 17:00:59|2019-01-25 17:04:53|              1|          .58|         1|                 N|         237|         262|           2|        4.5|    1|    0.5|         0|           0|                  0.3|         6.3|                null|        1|        0|yellow|\n",
            "|       4|2019-01-25 17:10:44|2019-01-25 17:15:40|              1|          .76|         1|                 N|         262|         236|           2|          5|    1|    0.5|         0|           0|                  0.3|         6.8|                null|        1|        0|yellow|\n",
            "|       4|2019-01-25 17:19:17|2019-01-25 17:33:24|              1|         2.87|         1|                 N|         237|          41|           1|         12|    1|    0.5|         2|           0|                  0.3|        15.8|                null|        1|        0|yellow|\n",
            "|       4|2019-01-25 17:00:30|2019-01-25 17:06:48|              1|          .65|         1|                 N|         163|         230|           2|        5.5|    1|    0.5|         0|           0|                  0.3|         7.3|                null|        1|        0|yellow|\n",
            "|       4|2019-01-25 17:09:49|2019-01-25 17:19:38|              1|         1.97|         1|                 N|         230|          68|           1|        8.5|    1|    0.5|       1.5|           0|                  0.3|        11.8|                null|        1|        0|yellow|\n",
            "|       4|2019-01-25 17:29:57|2019-01-25 17:35:34|              1|          .84|         1|                 N|          68|         246|           1|        5.5|    1|    0.5|         1|           0|                  0.3|         8.3|                null|        1|        0|yellow|\n",
            "|       4|2019-01-25 17:39:09|2019-01-25 17:46:31|              1|         1.07|         1|                 N|         246|         186|           1|          7|    1|    0.5|         1|           0|                  0.3|         9.8|                null|        1|        0|yellow|\n",
            "|       4|2019-01-25 17:56:18|2019-01-25 18:08:10|              1|         1.44|         1|                 N|         186|         163|           2|          9|    1|    0.5|         0|           0|                  0.3|        10.8|                null|        1|        0|yellow|\n",
            "|       4|2019-01-25 17:03:13|2019-01-25 17:12:16|              1|         1.40|         1|                 N|         113|         137|           1|          8|    1|    0.5|      1.96|           0|                  0.3|       11.76|                null|        1|        0|yellow|\n",
            "|       4|2019-01-25 17:19:07|2019-01-25 17:33:57|              1|         1.24|         1|                 N|         170|         161|           2|         10|    1|    0.5|         0|           0|                  0.3|        11.8|                null|        1|        0|yellow|\n",
            "|       4|2019-01-25 17:34:29|2019-01-25 17:43:32|              1|         1.49|         1|                 N|         161|         143|           1|          8|    1|    0.5|      1.96|           0|                  0.3|       11.76|                null|        1|        0|yellow|\n",
            "|       4|2019-01-25 17:59:49|2019-01-25 18:12:17|              2|         1.27|         1|                 N|         230|         170|           2|          9|    1|    0.5|         0|           0|                  0.3|        10.8|                null|        1|        0|yellow|\n",
            "|       4|2019-01-25 17:27:23|2019-01-25 17:33:47|              1|          .37|         1|                 N|         237|         162|           2|        5.5|    1|    0.5|         0|           0|                  0.3|         7.3|                null|        1|        0|yellow|\n",
            "|       4|2019-01-25 17:36:03|2019-01-25 17:46:36|              1|         1.26|         1|                 N|         162|         163|           1|          8|    1|    0.5|      2.94|           0|                  0.3|       12.74|                null|        1|        0|yellow|\n",
            "|       4|2019-01-25 17:49:49|2019-01-25 17:59:25|              1|         1.06|         1|                 N|         163|         141|           1|        7.5|    1|    0.5|      1.86|           0|                  0.3|       11.16|                null|        1|        0|yellow|\n",
            "|       4|2019-01-25 17:16:15|2019-01-25 17:33:08|              1|         1.29|         1|                 N|         100|         249|           1|       11.5|    1|    0.5|      2.66|           0|                  0.3|       15.96|                null|        1|        0|yellow|\n",
            "|       4|2019-01-25 17:44:03|2019-01-25 17:49:12|              1|          .28|         1|                 N|          90|          90|           2|        4.5|    1|    0.5|         0|           0|                  0.3|         6.3|                null|        1|        0|yellow|\n",
            "|       4|2019-01-25 17:59:34|2019-01-25 18:10:18|              1|         1.19|         1|                 N|         186|         170|           1|        8.5|    1|    0.5|      2.06|           0|                  0.3|       12.36|                null|        1|        0|yellow|\n",
            "|       4|2019-01-25 17:07:58|2019-01-25 17:57:40|              1|         9.32|         1|                 N|         138|         230|           2|         35|    1|    0.5|         0|        5.76|                  0.3|       42.56|                null|        1|        0|yellow|\n",
            "|       4|2019-01-25 17:41:20|2019-01-25 18:02:32|              1|         2.31|         1|                 N|         162|         246|           1|       14.5|    1|    0.5|      3.26|           0|                  0.3|       19.56|                null|        1|        0|yellow|\n",
            "+--------+-------------------+-------------------+---------------+-------------+----------+------------------+------------+------------+------------+-----------+-----+-------+----------+------------+---------------------+------------+--------------------+---------+---------+------+\n",
            "only showing top 20 rows\n",
            "\n"
          ],
          "name": "stdout"
        }
      ]
    },
    {
      "cell_type": "code",
      "metadata": {
        "id": "w40yNS1190QR",
        "outputId": "42d24693-0bdb-48b6-c9bf-ac69d5ce6255"
      },
      "source": [
        "spark.sql(\"\"\"\n",
        "            SELECT colour, count(colour)\n",
        "            FROM data_init_view\n",
        "            WHERE VendorID == 4\n",
        "            GROUP by colour\n",
        "        \"\"\").show()"
      ],
      "execution_count": null,
      "outputs": [
        {
          "output_type": "stream",
          "text": [
            "+------+-------------+\n",
            "|colour|count(colour)|\n",
            "+------+-------------+\n",
            "|yellow|        76823|\n",
            "+------+-------------+\n",
            "\n"
          ],
          "name": "stdout"
        }
      ]
    },
    {
      "cell_type": "code",
      "metadata": {
        "id": "VpuL4jpJ90QT",
        "outputId": "55f47219-d4be-47e0-ce03-d683e4379e69"
      },
      "source": [
        "spark.sql(\"\"\"\n",
        "            SELECT RatecodeID, count(RatecodeID)\n",
        "            FROM data_init_view\n",
        "            WHERE VendorID == 4\n",
        "            GROUP by RatecodeID\n",
        "        \"\"\").show()"
      ],
      "execution_count": null,
      "outputs": [
        {
          "output_type": "stream",
          "text": [
            "+----------+-----------------+\n",
            "|RatecodeID|count(RatecodeID)|\n",
            "+----------+-----------------+\n",
            "|         3|               78|\n",
            "|        99|                5|\n",
            "|         5|              225|\n",
            "|         1|            75240|\n",
            "|         4|               46|\n",
            "|         2|             1229|\n",
            "+----------+-----------------+\n",
            "\n"
          ],
          "name": "stdout"
        }
      ]
    },
    {
      "cell_type": "code",
      "metadata": {
        "id": "bRT2bw9a90QU",
        "outputId": "b0f6bd09-cb97-42d1-faf0-c5dd8e03a063"
      },
      "source": [
        "spark.sql(\"\"\"\n",
        "            SELECT passenger_count, count(passenger_count)\n",
        "            FROM data_init_view\n",
        "            WHERE VendorID == 4\n",
        "            GROUP by passenger_count\n",
        "        \"\"\").show()"
      ],
      "execution_count": null,
      "outputs": [
        {
          "output_type": "stream",
          "text": [
            "+---------------+----------------------+\n",
            "|passenger_count|count(passenger_count)|\n",
            "+---------------+----------------------+\n",
            "|              3|                   266|\n",
            "|              5|                     9|\n",
            "|              1|                 75449|\n",
            "|              4|                   107|\n",
            "|              2|                   992|\n",
            "+---------------+----------------------+\n",
            "\n"
          ],
          "name": "stdout"
        }
      ]
    },
    {
      "cell_type": "code",
      "metadata": {
        "id": "QL9PuJvP90QX",
        "outputId": "182e04a8-14f9-4978-a175-8e9ef1b05834"
      },
      "source": [
        "spark.sql(\"\"\"\n",
        "            CREATE OR REPLACE TEMPORARY VIEW vid4months\n",
        "            AS\n",
        "            SELECT pickup_datetime,\n",
        "                CASE\n",
        "                    WHEN pickup_datetime LIKE '%2019-01%' THEN 'jan'\n",
        "                    ELSE \"unknown\"\n",
        "                END AS MonthGroup\n",
        "            FROM data_init_view\n",
        "            WHERE VendorID == 4\n",
        "        \"\"\")\n",
        "\n",
        "spark.sql(\"\"\"\n",
        "            SELECT MonthGroup, count(MonthGroup) as count\n",
        "            FROM vid4months\n",
        "            GROUP BY MonthGroup\n",
        "            ORDER BY count\n",
        "        \"\"\").show()\n"
      ],
      "execution_count": null,
      "outputs": [
        {
          "output_type": "stream",
          "text": [
            "+----------+-----+\n",
            "|MonthGroup|count|\n",
            "+----------+-----+\n",
            "|       jan|76823|\n",
            "+----------+-----+\n",
            "\n"
          ],
          "name": "stdout"
        }
      ]
    },
    {
      "cell_type": "markdown",
      "metadata": {
        "id": "i7JhXL3j90QZ"
      },
      "source": [
        "## Passenger Count\n",
        "- 657,274 records of passenger count 0\n",
        "- For 7-9 passenger count\n",
        "    - ~350 records( What are they Maxi Type?)"
      ]
    },
    {
      "cell_type": "code",
      "metadata": {
        "id": "A6J06fF190Qa",
        "outputId": "ff880882-58d8-426a-8f4a-89419257cfd4"
      },
      "source": [
        "spark.sql(\"\"\"\n",
        "            SELECT passenger_count, count(passenger_count)\n",
        "            FROM data_init_view\n",
        "            GROUP by passenger_count\n",
        "        \"\"\").show()"
      ],
      "execution_count": null,
      "outputs": [
        {
          "output_type": "stream",
          "text": [
            "+---------------+----------------------+\n",
            "|passenger_count|count(passenger_count)|\n",
            "+---------------+----------------------+\n",
            "|              7|                    19|\n",
            "|              3|                314721|\n",
            "|              8|                    29|\n",
            "|              0|                117381|\n",
            "|              5|                323842|\n",
            "|              6|                200811|\n",
            "|              9|                     9|\n",
            "|              1|               5456121|\n",
            "|              4|                140753|\n",
            "|              2|               1114106|\n",
            "+---------------+----------------------+\n",
            "\n"
          ],
          "name": "stdout"
        }
      ]
    },
    {
      "cell_type": "markdown",
      "metadata": {
        "id": "5SkAvR1B90Qb"
      },
      "source": [
        "## RatecodeID should be in range(1-6)\n",
        "- 1271 with RatecodeID=99\n",
        "- 693 with distance 0\n",
        "- 394 PULocation 264"
      ]
    },
    {
      "cell_type": "code",
      "metadata": {
        "id": "1dsQ0j4t90Qc",
        "outputId": "acd4935b-e872-4623-88fd-bbeb4fd774a5"
      },
      "source": [
        "spark.sql(\"\"\"\n",
        "            SELECT RatecodeID, count(RatecodeID)\n",
        "            FROM data_init_view\n",
        "            GROUP by RatecodeID\n",
        "        \"\"\").show()"
      ],
      "execution_count": null,
      "outputs": [
        {
          "output_type": "stream",
          "text": [
            "+----------+-----------------+\n",
            "|RatecodeID|count(RatecodeID)|\n",
            "+----------+-----------------+\n",
            "|         3|            11801|\n",
            "|        99|              252|\n",
            "|         5|            54569|\n",
            "|         6|               46|\n",
            "|         1|          7430139|\n",
            "|         4|             4895|\n",
            "|         2|           166090|\n",
            "+----------+-----------------+\n",
            "\n"
          ],
          "name": "stdout"
        }
      ]
    },
    {
      "cell_type": "code",
      "metadata": {
        "id": "TzABWHR190Qd",
        "outputId": "436df5c1-b3c4-444a-b929-1af5a72f0708"
      },
      "source": [
        "spark.sql(\"\"\"\n",
        "            SELECT colour, count(colour) as count\n",
        "            FROM data_init_view\n",
        "            WHERE NOT RatecodeID BETWEEN 1 AND 6\n",
        "            GROUP BY colour\n",
        "        \"\"\").show()"
      ],
      "execution_count": null,
      "outputs": [
        {
          "output_type": "stream",
          "text": [
            "+------+-----+\n",
            "|colour|count|\n",
            "+------+-----+\n",
            "|yellow|  252|\n",
            "+------+-----+\n",
            "\n"
          ],
          "name": "stdout"
        }
      ]
    },
    {
      "cell_type": "code",
      "metadata": {
        "id": "eRfP4XPl90Qh",
        "outputId": "15faafb1-6370-42e3-c352-973f72b89766"
      },
      "source": [
        "spark.sql(\"\"\"\n",
        "            SELECT trip_distance, count(trip_distance) AS count\n",
        "            FROM data_init_view\n",
        "            WHERE NOT RatecodeID BETWEEN 1 AND 6\n",
        "            GROUP by trip_distance\n",
        "            ORDER BY count DESC\n",
        "        \"\"\").show()"
      ],
      "execution_count": null,
      "outputs": [
        {
          "output_type": "stream",
          "text": [
            "+-------------+-----+\n",
            "|trip_distance|count|\n",
            "+-------------+-----+\n",
            "|          .00|  145|\n",
            "|          .84|    4|\n",
            "|         1.27|    4|\n",
            "|         1.35|    3|\n",
            "|          .66|    2|\n",
            "|          .72|    2|\n",
            "|          .74|    2|\n",
            "|         1.50|    2|\n",
            "|          .94|    2|\n",
            "|          .73|    2|\n",
            "|         3.84|    2|\n",
            "|         2.57|    2|\n",
            "|         2.19|    2|\n",
            "|         1.18|    2|\n",
            "|         1.52|    2|\n",
            "|         2.78|    1|\n",
            "|         1.30|    1|\n",
            "|        23.89|    1|\n",
            "|         1.68|    1|\n",
            "|         1.74|    1|\n",
            "+-------------+-----+\n",
            "only showing top 20 rows\n",
            "\n"
          ],
          "name": "stdout"
        }
      ]
    },
    {
      "cell_type": "code",
      "metadata": {
        "id": "5G9d2ClM90Qj",
        "outputId": "fadcd290-f942-4057-eb7a-f78101091967"
      },
      "source": [
        "spark.sql(\"\"\"\n",
        "            SELECT PULocationID, count(PULocationID) AS count\n",
        "            FROM data_init_view\n",
        "            WHERE NOT RatecodeID BETWEEN 1 AND 6\n",
        "            GROUP by PULocationID\n",
        "            ORDER BY count DESC\n",
        "        \"\"\").show()"
      ],
      "execution_count": null,
      "outputs": [
        {
          "output_type": "stream",
          "text": [
            "+------------+-----+\n",
            "|PULocationID|count|\n",
            "+------------+-----+\n",
            "|         264|   84|\n",
            "|         265|   16|\n",
            "|         142|    8|\n",
            "|         239|    8|\n",
            "|         170|    7|\n",
            "|          43|    7|\n",
            "|          79|    7|\n",
            "|         231|    6|\n",
            "|         162|    6|\n",
            "|         230|    6|\n",
            "|         138|    5|\n",
            "|         193|    5|\n",
            "|         132|    5|\n",
            "|         107|    5|\n",
            "|         161|    5|\n",
            "|         234|    4|\n",
            "|         141|    4|\n",
            "|         237|    4|\n",
            "|         145|    4|\n",
            "|         238|    3|\n",
            "+------------+-----+\n",
            "only showing top 20 rows\n",
            "\n"
          ],
          "name": "stdout"
        }
      ]
    },
    {
      "cell_type": "markdown",
      "metadata": {
        "id": "b7h3-vX090Qk"
      },
      "source": [
        "## Payment Type should be in range(1-6)\n",
        "- All valid within range\n",
        "- No 6 \n",
        "- Count descends as the payment type increases"
      ]
    },
    {
      "cell_type": "code",
      "metadata": {
        "id": "dv6NIxAQ90Ql",
        "outputId": "f7c4f237-ccd6-4bb4-fe18-7bbc998cf619"
      },
      "source": [
        "spark.sql(\"\"\"\n",
        "            SELECT payment_type, count(payment_type) AS count\n",
        "            FROM data_init_view\n",
        "            GROUP by payment_type\n",
        "            ORDER BY count DESC\n",
        "        \"\"\").show()"
      ],
      "execution_count": null,
      "outputs": [
        {
          "output_type": "stream",
          "text": [
            "+------------+-------+\n",
            "|payment_type|  count|\n",
            "+------------+-------+\n",
            "|           1|5486027|\n",
            "|           2|2137415|\n",
            "|           3|  33186|\n",
            "|           4|  11164|\n",
            "+------------+-------+\n",
            "\n"
          ],
          "name": "stdout"
        }
      ]
    },
    {
      "cell_type": "markdown",
      "metadata": {
        "id": "0lMAr69f90Qm"
      },
      "source": [
        "## Extra, it should be 0.5 or 1\n",
        "- If all the values is valid then we can change to two bools[]\n",
        "- Out of range value including negatives, Overnight Charges?\n",
        "- 101 unique values \n",
        "- 19 negative values\n",
        "- Valid values\n",
        "    - 4598696 records contains 1\n",
        "    - 7902055 records contains 0.2"
      ]
    },
    {
      "cell_type": "code",
      "metadata": {
        "id": "hGn4Jww890Qu",
        "outputId": "3b65fad8-a531-406d-8dd1-ff3c19492271"
      },
      "source": [
        "spark.sql(\"\"\"\n",
        "            SELECT extra, count(extra) AS count\n",
        "            FROM data_init_view\n",
        "            GROUP by extra\n",
        "            ORDER BY count DESC\n",
        "        \"\"\").show()"
      ],
      "execution_count": null,
      "outputs": [
        {
          "output_type": "stream",
          "text": [
            "+-----+-------+\n",
            "|extra|  count|\n",
            "+-----+-------+\n",
            "|    0|4199855|\n",
            "|  0.5|2116494|\n",
            "|    1|1316580|\n",
            "|  4.5|  31241|\n",
            "| -0.5|   2201|\n",
            "|   -1|    863|\n",
            "|  0.8|    229|\n",
            "| -4.5|     79|\n",
            "|  1.3|     74|\n",
            "| 17.5|     63|\n",
            "|  1.8|     34|\n",
            "|  2.5|     21|\n",
            "|  0.3|     10|\n",
            "|   18|      9|\n",
            "|    3|      7|\n",
            "| 18.5|      6|\n",
            "|  5.3|      4|\n",
            "|  0.2|      3|\n",
            "| 0.25|      1|\n",
            "| 10.9|      1|\n",
            "+-----+-------+\n",
            "only showing top 20 rows\n",
            "\n"
          ],
          "name": "stdout"
        }
      ]
    },
    {
      "cell_type": "code",
      "metadata": {
        "id": "t81HTUV790Qw",
        "outputId": "d5bdb4b1-a76e-48ec-a46a-54bf77b48c9a"
      },
      "source": [
        "spark.sql(\"\"\"\n",
        "            SELECT extra, count(extra) AS count\n",
        "            FROM data_init_view\n",
        "            GROUP by extra\n",
        "            ORDER BY count DESC\n",
        "        \"\"\").count()"
      ],
      "execution_count": null,
      "outputs": [
        {
          "output_type": "execute_result",
          "data": {
            "text/plain": [
              "37"
            ]
          },
          "metadata": {
            "tags": []
          },
          "execution_count": 28
        }
      ]
    },
    {
      "cell_type": "code",
      "metadata": {
        "id": "ZXlSotTm90Qx",
        "outputId": "0bc7b2e5-91e3-48df-baa1-3ddfd33622e9"
      },
      "source": [
        "spark.sql(\"\"\"\n",
        "            SELECT extra, count(extra) AS count\n",
        "            FROM data_init_view\n",
        "            WHERE extra < 0\n",
        "            GROUP by extra\n",
        "            ORDER BY count DESC\n",
        "        \"\"\").count()"
      ],
      "execution_count": null,
      "outputs": [
        {
          "output_type": "execute_result",
          "data": {
            "text/plain": [
              "7"
            ]
          },
          "metadata": {
            "tags": []
          },
          "execution_count": 29
        }
      ]
    },
    {
      "cell_type": "markdown",
      "metadata": {
        "id": "wKxIegv090Qy"
      },
      "source": [
        "## Mta_Tax should be 0.5\n",
        "- If all values are valid change to bool[]\n",
        "- 37262299 valid values\n",
        "- 203257: 0 values\n",
        "- 52388: -0.5 value(Refund?)\n",
        "    - Check other out of range and negative values"
      ]
    },
    {
      "cell_type": "code",
      "metadata": {
        "id": "K63ykeH790Qz",
        "outputId": "753f5fe8-0b76-42d0-8135-f64b164e3a1c"
      },
      "source": [
        "spark.sql(\"\"\"\n",
        "            SELECT mta_tax, count(mta_tax) AS count\n",
        "            FROM data_init_view\n",
        "            GROUP by mta_tax\n",
        "            ORDER BY count DESC\n",
        "        \"\"\").show()"
      ],
      "execution_count": null,
      "outputs": [
        {
          "output_type": "stream",
          "text": [
            "+-------+-------+\n",
            "|mta_tax|  count|\n",
            "+-------+-------+\n",
            "|    0.5|7625883|\n",
            "|      0|  34984|\n",
            "|   -0.5|   6819|\n",
            "|   0.25|     97|\n",
            "|   0.35|      2|\n",
            "|  32.53|      1|\n",
            "|  37.51|      1|\n",
            "|    0.9|      1|\n",
            "|   2.42|      1|\n",
            "|   60.8|      1|\n",
            "|      1|      1|\n",
            "|   18.3|      1|\n",
            "+-------+-------+\n",
            "\n"
          ],
          "name": "stdout"
        }
      ]
    },
    {
      "cell_type": "markdown",
      "metadata": {
        "id": "JG7qT40H90Qz"
      },
      "source": [
        "### Out of range value\n",
        "- 52556: Out of range value"
      ]
    },
    {
      "cell_type": "code",
      "metadata": {
        "id": "4G8SBN-t90Q0",
        "outputId": "7ef1d91b-240d-4c9a-e30e-3fd7826224e2"
      },
      "source": [
        "spark.sql(\"\"\"\n",
        "            SELECT colour, count(colour) AS count\n",
        "            FROM data_init_view\n",
        "            WHERE mta_tax != \"0\"\n",
        "            AND mta_tax != \"0.5\"\n",
        "            GROUP by colour\n",
        "            ORDER BY count DESC\n",
        "        \"\"\").show()"
      ],
      "execution_count": null,
      "outputs": [
        {
          "output_type": "stream",
          "text": [
            "+------+-----+\n",
            "|colour|count|\n",
            "+------+-----+\n",
            "|yellow| 6925|\n",
            "+------+-----+\n",
            "\n"
          ],
          "name": "stdout"
        }
      ]
    },
    {
      "cell_type": "markdown",
      "metadata": {
        "id": "ucAMmu0L90Q0"
      },
      "source": [
        "## Improvement_Surcharge should be 0.3\n",
        "- If all values are valid change to bool[]\n",
        "- 37447079 valid 0.3 values\n",
        "- 53940: -0.3 value(Refund?)\n",
        "- 17076: 0 value\n",
        "- 16: 1 value\n",
        "    - All 0 trip_diatance\n",
        "    - All PU/Do Id= 265"
      ]
    },
    {
      "cell_type": "code",
      "metadata": {
        "id": "zZTxfBD190Q4",
        "outputId": "bc1de993-e3a6-4dd5-d324-04b333a4d5cc"
      },
      "source": [
        "spark.sql(\"\"\"\n",
        "            SELECT improvement_surcharge, count(improvement_surcharge) AS count\n",
        "            FROM data_init_view\n",
        "            GROUP by improvement_surcharge\n",
        "            ORDER BY count DESC\n",
        "        \"\"\").show()"
      ],
      "execution_count": null,
      "outputs": [
        {
          "output_type": "stream",
          "text": [
            "+---------------------+-------+\n",
            "|improvement_surcharge|  count|\n",
            "+---------------------+-------+\n",
            "|                  0.3|7658005|\n",
            "|                 -0.3|   7129|\n",
            "|                    0|   2657|\n",
            "|                  0.6|      1|\n",
            "+---------------------+-------+\n",
            "\n"
          ],
          "name": "stdout"
        }
      ]
    },
    {
      "cell_type": "code",
      "metadata": {
        "id": "JNssvlYp90Q5",
        "outputId": "f06118e7-8b25-4315-dadd-5da7ca407924"
      },
      "source": [
        "spark.sql(\"\"\"\n",
        "            SELECT *\n",
        "            FROM data_init_view\n",
        "            WHERE improvement_surcharge = \"1\"\n",
        "        \"\"\").show()"
      ],
      "execution_count": null,
      "outputs": [
        {
          "output_type": "stream",
          "text": [
            "+--------+---------------+----------------+---------------+-------------+----------+------------------+------------+------------+------------+-----------+-----+-------+----------+------------+---------------------+------------+--------------------+---------+---------+------+\n",
            "|VendorID|pickup_datetime|dropoff_datetime|passenger_count|trip_distance|RatecodeID|store_and_fwd_flag|PULocationID|DOLocationID|payment_type|fare_amount|extra|mta_tax|tip_amount|tolls_amount|improvement_surcharge|total_amount|congestion_surcharge|trip_type|ehail_fee|colour|\n",
            "+--------+---------------+----------------+---------------+-------------+----------+------------------+------------+------------+------------+-----------+-----+-------+----------+------------+---------------------+------------+--------------------+---------+---------+------+\n",
            "+--------+---------------+----------------+---------------+-------------+----------+------------------+------------+------------+------------+-----------+-----+-------+----------+------------+---------------------+------------+--------------------+---------+---------+------+\n",
            "\n"
          ],
          "name": "stdout"
        }
      ]
    },
    {
      "cell_type": "markdown",
      "metadata": {
        "id": "__5MmmVL90Q6"
      },
      "source": [
        "## Trip Type should be 1 for Yellow Taxi\n",
        "- All are valid"
      ]
    },
    {
      "cell_type": "code",
      "metadata": {
        "id": "fcGvHLvY90Q6",
        "outputId": "42d3c046-1442-4fff-934e-870f3c2fedcb"
      },
      "source": [
        "spark.sql(\"\"\"\n",
        "            SELECT trip_type, count(trip_type) AS count\n",
        "            FROM data_init_view\n",
        "            GROUP by trip_type\n",
        "            ORDER BY count DESC\n",
        "        \"\"\").show()"
      ],
      "execution_count": null,
      "outputs": [
        {
          "output_type": "stream",
          "text": [
            "+---------+-------+\n",
            "|trip_type|  count|\n",
            "+---------+-------+\n",
            "|        1|7667792|\n",
            "+---------+-------+\n",
            "\n"
          ],
          "name": "stdout"
        }
      ]
    },
    {
      "cell_type": "markdown",
      "metadata": {
        "id": "xoWPqFsl90Q7"
      },
      "source": [
        "## Check Location Value\n",
        "(Should be an integer from 1-265)- from Taxizone lookup Table:-\n",
        "    https://www1.nyc.gov/site/tlc/about/tlc-trip-record-data.page\n",
        "- PULocationID\n",
        "- DULocationID\n",
        "- Both\n",
        "    - No non integer values \n",
        "    - No null"
      ]
    },
    {
      "cell_type": "code",
      "metadata": {
        "id": "kL9i8znx90Q8",
        "outputId": "c0189080-d9a5-4c61-ebb4-ebaef86462bc"
      },
      "source": [
        "# look for non integer values\n",
        "spark.sql(\"\"\"\n",
        "            SELECT *\n",
        "            FROM data_init_view\n",
        "            WHERE PULocationID BETWEEN 1 AND 265\n",
        "            and mod(PULocationID, 1) != 0\n",
        "        \"\"\").show()"
      ],
      "execution_count": null,
      "outputs": [
        {
          "output_type": "stream",
          "text": [
            "+--------+---------------+----------------+---------------+-------------+----------+------------------+------------+------------+------------+-----------+-----+-------+----------+------------+---------------------+------------+--------------------+---------+---------+------+\n",
            "|VendorID|pickup_datetime|dropoff_datetime|passenger_count|trip_distance|RatecodeID|store_and_fwd_flag|PULocationID|DOLocationID|payment_type|fare_amount|extra|mta_tax|tip_amount|tolls_amount|improvement_surcharge|total_amount|congestion_surcharge|trip_type|ehail_fee|colour|\n",
            "+--------+---------------+----------------+---------------+-------------+----------+------------------+------------+------------+------------+-----------+-----+-------+----------+------------+---------------------+------------+--------------------+---------+---------+------+\n",
            "+--------+---------------+----------------+---------------+-------------+----------+------------------+------------+------------+------------+-----------+-----+-------+----------+------------+---------------------+------------+--------------------+---------+---------+------+\n",
            "\n"
          ],
          "name": "stdout"
        }
      ]
    },
    {
      "cell_type": "code",
      "metadata": {
        "id": "SHEGQq-i90Q9",
        "outputId": "263c853d-64dd-4fd7-a9b3-ca8a9c74592f"
      },
      "source": [
        "# count of location values, most first\n",
        "spark.sql(\"\"\"\n",
        "            SELECT PULocationID, count(PULocationID) AS count\n",
        "            FROM data_init_view\n",
        "            GROUP by PULocationID\n",
        "            ORDER BY count DESC\n",
        "        \"\"\").show()"
      ],
      "execution_count": null,
      "outputs": [
        {
          "output_type": "stream",
          "text": [
            "+------------+------+\n",
            "|PULocationID| count|\n",
            "+------------+------+\n",
            "|         237|332473|\n",
            "|         236|323008|\n",
            "|         161|312392|\n",
            "|         162|277166|\n",
            "|         230|263646|\n",
            "|         186|260712|\n",
            "|          48|240903|\n",
            "|         170|238978|\n",
            "|         234|237648|\n",
            "|         142|235144|\n",
            "|         239|207883|\n",
            "|         163|199682|\n",
            "|         132|196612|\n",
            "|          79|193955|\n",
            "|         141|192380|\n",
            "|         138|184334|\n",
            "|         107|176786|\n",
            "|         164|172647|\n",
            "|          68|171971|\n",
            "|         238|162192|\n",
            "+------------+------+\n",
            "only showing top 20 rows\n",
            "\n"
          ],
          "name": "stdout"
        }
      ]
    },
    {
      "cell_type": "code",
      "metadata": {
        "id": "wdH5rXgy90Q9",
        "outputId": "be6fe794-5965-4275-f5b3-dc28d39788de"
      },
      "source": [
        "spark.sql(\"\"\"\n",
        "            SELECT *\n",
        "            FROM data_init_view\n",
        "            WHERE NOT DOLocationID BETWEEN 1 AND 265\n",
        "        \"\"\").show()"
      ],
      "execution_count": null,
      "outputs": [
        {
          "output_type": "stream",
          "text": [
            "+--------+---------------+----------------+---------------+-------------+----------+------------------+------------+------------+------------+-----------+-----+-------+----------+------------+---------------------+------------+--------------------+---------+---------+------+\n",
            "|VendorID|pickup_datetime|dropoff_datetime|passenger_count|trip_distance|RatecodeID|store_and_fwd_flag|PULocationID|DOLocationID|payment_type|fare_amount|extra|mta_tax|tip_amount|tolls_amount|improvement_surcharge|total_amount|congestion_surcharge|trip_type|ehail_fee|colour|\n",
            "+--------+---------------+----------------+---------------+-------------+----------+------------------+------------+------------+------------+-----------+-----+-------+----------+------------+---------------------+------------+--------------------+---------+---------+------+\n",
            "+--------+---------------+----------------+---------------+-------------+----------+------------------+------------+------------+------------+-----------+-----+-------+----------+------------+---------------------+------------+--------------------+---------+---------+------+\n",
            "\n"
          ],
          "name": "stdout"
        }
      ]
    },
    {
      "cell_type": "code",
      "metadata": {
        "id": "CZcD8AJv90Q-",
        "outputId": "37a961bd-aeb4-4360-caf6-4ff1b24be67e"
      },
      "source": [
        "spark.sql(\"\"\"\n",
        "            SELECT DOLocationID, count(DOLocationID) AS count\n",
        "            FROM data_init_view\n",
        "            GROUP by DOLocationID\n",
        "            ORDER BY count DESC\n",
        "        \"\"\").show()"
      ],
      "execution_count": null,
      "outputs": [
        {
          "output_type": "stream",
          "text": [
            "+------------+------+\n",
            "|DOLocationID| count|\n",
            "+------------+------+\n",
            "|         236|334323|\n",
            "|         237|296185|\n",
            "|         161|293782|\n",
            "|         170|242037|\n",
            "|         162|232451|\n",
            "|         230|225336|\n",
            "|         142|214164|\n",
            "|          48|208624|\n",
            "|         234|204386|\n",
            "|         239|204350|\n",
            "|         141|202184|\n",
            "|         186|189486|\n",
            "|         163|175754|\n",
            "|         238|175310|\n",
            "|          79|168608|\n",
            "|          68|167144|\n",
            "|         107|162697|\n",
            "|         263|158297|\n",
            "|         164|154200|\n",
            "|         140|152042|\n",
            "+------------+------+\n",
            "only showing top 20 rows\n",
            "\n"
          ],
          "name": "stdout"
        }
      ]
    },
    {
      "cell_type": "code",
      "metadata": {
        "id": "SHJEGTio90Q_",
        "outputId": "7e7ddd2a-9a7b-47a4-df99-fbd4f7ff1231"
      },
      "source": [
        "spark.sql(\"\"\"\n",
        "            SELECT DOLocationID, count(DOLocationID) AS count\n",
        "            FROM data_init_view\n",
        "            WHERE DOLocationID >= 264\n",
        "            GROUP by DOLocationID\n",
        "            ORDER BY count DESC\n",
        "        \"\"\").show()"
      ],
      "execution_count": null,
      "outputs": [
        {
          "output_type": "stream",
          "text": [
            "+------------+------+\n",
            "|DOLocationID| count|\n",
            "+------------+------+\n",
            "|         264|149094|\n",
            "|         265| 16817|\n",
            "+------------+------+\n",
            "\n"
          ],
          "name": "stdout"
        }
      ]
    },
    {
      "cell_type": "markdown",
      "metadata": {
        "id": "hAqh6I1290Q_"
      },
      "source": [
        "## Check dates are within range:-\n",
        "(Should be 2019-01-01 00:00:00 to 2019-05-31 23:59:59)\n",
        "- Pickup_datetime\n",
        "    - min 2001-01-01 00:09:39\n",
        "        -\n",
        "    - Max 2088-01-24 00:25:39\n",
        "        -\n",
        "- Dropoff_datetime\n",
        "    - min 2001-01-01 06:39:54\n",
        "        -\n",
        "    - Max 2088-01-24 07:28:25\n",
        "        -"
      ]
    },
    {
      "cell_type": "code",
      "metadata": {
        "id": "kLGCO2ml90RA",
        "outputId": "bd986a18-1822-4ad9-b201-dea48388341e"
      },
      "source": [
        "spark.sql(\"\"\"\n",
        "            SELECT MIN(pickup_datetime), MAX(pickup_datetime), MIN(dropoff_datetime),  MAX(dropoff_datetime)\n",
        "            FROM data_init_view\n",
        "        \"\"\").show()"
      ],
      "execution_count": null,
      "outputs": [
        {
          "output_type": "stream",
          "text": [
            "+--------------------+--------------------+---------------------+---------------------+\n",
            "|min(pickup_datetime)|max(pickup_datetime)|min(dropoff_datetime)|max(dropoff_datetime)|\n",
            "+--------------------+--------------------+---------------------+---------------------+\n",
            "| 2001-02-02 14:55:07| 2088-01-24 00:25:39|  2001-02-02 15:07:27|  2088-01-24 07:28:25|\n",
            "+--------------------+--------------------+---------------------+---------------------+\n",
            "\n"
          ],
          "name": "stdout"
        }
      ]
    },
    {
      "cell_type": "code",
      "metadata": {
        "id": "VIQQz2Zf90RD",
        "outputId": "b3caea1f-fd9f-430b-db28-a27cf5c47070"
      },
      "source": [
        "# calculate tripdays using datediff (simpler)\n",
        "spark.sql(\"\"\"\n",
        "            WITH tripdaysTable AS (\n",
        "            SELECT *, datediff(dropoff_datetime, pickup_datetime) as tripdays\n",
        "            FROM data_init_view\n",
        "            )\n",
        "            SELECT tripdays, count(tripdays) AS count\n",
        "            FROM tripdaysTable\n",
        "            GROUP by tripdays\n",
        "            ORDER BY count DESC\n",
        "        \"\"\").show()"
      ],
      "execution_count": null,
      "outputs": [
        {
          "output_type": "stream",
          "text": [
            "+--------+-------+\n",
            "|tripdays|  count|\n",
            "+--------+-------+\n",
            "|       0|7597276|\n",
            "|       1|  70508|\n",
            "|     -58|      1|\n",
            "|      -2|      1|\n",
            "|     -19|      1|\n",
            "|      30|      1|\n",
            "|      22|      1|\n",
            "|      24|      1|\n",
            "|       5|      1|\n",
            "|       2|      1|\n",
            "+--------+-------+\n",
            "\n"
          ],
          "name": "stdout"
        }
      ]
    },
    {
      "cell_type": "code",
      "metadata": {
        "id": "WdV72IDX90RD",
        "outputId": "996e7f36-77ad-459a-831e-a2090f9d1a8e"
      },
      "source": [
        "spark.sql(\"\"\"\n",
        "            WITH countsTable AS (\n",
        "                WITH tripdaysTable AS (\n",
        "                    SELECT *, datediff(dropoff_datetime, pickup_datetime) as tripdays\n",
        "                    FROM data_init_view\n",
        "                    )\n",
        "                SELECT tripdays, count(tripdays) AS count\n",
        "                FROM tripdaysTable\n",
        "                GROUP by tripdays\n",
        "                ORDER BY count DESC\n",
        "            )\n",
        "            SELECT sum(count)\n",
        "            FROM countsTable\n",
        "            WHERE tripdays != \"0\"\n",
        "            AND tripdays != \"1\"\n",
        "        \"\"\").show()"
      ],
      "execution_count": null,
      "outputs": [
        {
          "output_type": "stream",
          "text": [
            "+----------+\n",
            "|sum(count)|\n",
            "+----------+\n",
            "|         8|\n",
            "+----------+\n",
            "\n"
          ],
          "name": "stdout"
        }
      ]
    },
    {
      "cell_type": "code",
      "metadata": {
        "id": "Ne8RiH8N90RF",
        "outputId": "4bdde5e0-36bc-4084-ce9f-391ccbb68d7a"
      },
      "source": [
        "# inspect out of range values\n",
        "spark.sql(\"\"\"\n",
        "            SELECT *\n",
        "            FROM data_init_view\n",
        "            WHERE pickup_datetime < \"2019-01-01 00:00:00\"\n",
        "            ORDER BY pickup_datetime DESC\n",
        "        \"\"\").show()"
      ],
      "execution_count": null,
      "outputs": [
        {
          "output_type": "stream",
          "text": [
            "+--------+-------------------+-------------------+---------------+-------------+----------+------------------+------------+------------+------------+-----------+-----+-------+----------+------------+---------------------+------------+--------------------+---------+---------+------+\n",
            "|VendorID|    pickup_datetime|   dropoff_datetime|passenger_count|trip_distance|RatecodeID|store_and_fwd_flag|PULocationID|DOLocationID|payment_type|fare_amount|extra|mta_tax|tip_amount|tolls_amount|improvement_surcharge|total_amount|congestion_surcharge|trip_type|ehail_fee|colour|\n",
            "+--------+-------------------+-------------------+---------------+-------------+----------+------------------+------------+------------+------------+-----------+-----+-------+----------+------------+---------------------+------------+--------------------+---------+---------+------+\n",
            "|       2|2018-12-31 23:59:58|2019-01-01 00:03:52|              1|          .66|         1|                 N|         162|         170|           2|        4.5|  0.5|    0.5|         0|           0|                  0.3|         5.8|                null|        1|        0|yellow|\n",
            "|       2|2018-12-31 23:59:57|2019-01-01 00:22:00|              1|         8.37|         1|                 N|         239|         235|           2|         26|  0.5|    0.5|         0|           0|                  0.3|        27.3|                null|        1|        0|yellow|\n",
            "|       2|2018-12-31 23:59:57|2019-01-01 00:00:00|              4|          .00|         5|                 N|         264|         265|           1|        121|    0|    0.5|     36.54|           0|                  0.3|      158.34|                null|        1|        0|yellow|\n",
            "|       2|2018-12-31 23:59:52|2019-01-01 00:00:29|              1|          .06|         1|                 N|         164|         164|           1|        2.5|  0.5|    0.5|         0|           0|                  0.3|         3.8|                null|        1|        0|yellow|\n",
            "|       2|2018-12-31 23:59:52|2019-01-01 00:13:08|              3|         3.32|         1|                 N|           7|         129|           2|       12.5|  0.5|    0.5|         0|           0|                  0.3|        13.8|                null|        1|        0|yellow|\n",
            "|       2|2018-12-31 23:59:51|2019-01-01 00:03:48|              2|          .35|         1|                 N|         249|         249|           1|          4|  0.5|    0.5|      1.06|           0|                  0.3|        6.36|                null|        1|        0|yellow|\n",
            "|       2|2018-12-31 23:59:47|2019-01-01 00:13:02|              1|         4.46|         1|                 N|          65|          79|           2|         15|  0.5|    0.5|         0|           0|                  0.3|        16.3|                null|        1|        0|yellow|\n",
            "|       2|2018-12-31 23:59:46|2019-01-01 00:08:54|              2|         1.06|         1|                 N|         161|         142|           2|        7.5|  0.5|    0.5|         0|           0|                  0.3|         8.8|                null|        1|        0|yellow|\n",
            "|       2|2018-12-31 23:59:38|2019-01-01 00:14:29|              1|          .61|         1|                 N|          68|          68|           1|         10|  0.5|    0.5|      2.26|           0|                  0.3|       13.56|                null|        1|        0|yellow|\n",
            "|       2|2018-12-31 23:59:38|2019-01-01 00:13:31|              2|         6.90|         1|                 N|         132|         197|           2|       20.5|  0.5|    0.5|         0|           0|                  0.3|        21.8|                null|        1|        0|yellow|\n",
            "|       2|2018-12-31 23:59:38|2019-01-01 00:50:35|              1|         3.97|         1|                 N|         142|          79|           2|         29|  0.5|    0.5|         0|           0|                  0.3|        30.3|                null|        1|        0|yellow|\n",
            "|       2|2018-12-31 23:59:36|2019-01-01 00:16:24|              1|         3.77|         1|                 N|          48|         263|           1|         15|  0.5|    0.5|         2|           0|                  0.3|        18.3|                null|        1|        0|yellow|\n",
            "|       2|2018-12-31 23:59:36|2019-01-01 00:23:51|              1|        12.95|         1|                 N|         148|         136|           2|       36.5|  0.5|    0.5|         0|           0|                  0.3|        37.8|                null|        1|        0|yellow|\n",
            "|       2|2018-12-31 23:59:31|2019-01-01 00:13:13|              1|         4.54|         1|                 N|          48|          74|           2|       14.5|  0.5|    0.5|         0|           0|                  0.3|        15.8|                null|        1|        0|yellow|\n",
            "|       2|2018-12-31 23:59:30|2019-01-01 00:03:09|              1|         1.06|         1|                 N|         229|         140|           1|          5|  0.5|    0.5|      1.89|           0|                  0.3|        8.19|                null|        1|        0|yellow|\n",
            "|       2|2018-12-31 23:59:30|2019-01-01 00:04:09|              1|         1.27|         1|                 N|          68|         158|           1|          6|  0.5|    0.5|      1.46|           0|                  0.3|        8.76|                null|        1|        0|yellow|\n",
            "|       2|2018-12-31 23:59:26|2019-01-01 00:13:26|              2|         2.24|         1|                 N|         186|         224|           1|         11|  0.5|    0.5|      3.08|           0|                  0.3|       15.38|                null|        1|        0|yellow|\n",
            "|       2|2018-12-31 23:59:24|2019-01-01 00:31:15|              2|        21.09|         2|                 N|         132|         243|           2|         52|    0|    0.5|         0|        5.76|                  0.3|       58.56|                null|        1|        0|yellow|\n",
            "|       2|2018-12-31 23:59:23|2019-01-01 00:07:25|              1|         3.04|         1|                 N|          79|         140|           1|         10|  0.5|    0.5|      2.82|           0|                  0.3|       14.12|                null|        1|        0|yellow|\n",
            "|       2|2018-12-31 23:59:19|2019-01-01 00:04:32|              1|          .90|         1|                 N|         148|          79|           2|        5.5|  0.5|    0.5|         0|           0|                  0.3|         6.8|                null|        1|        0|yellow|\n",
            "+--------+-------------------+-------------------+---------------+-------------+----------+------------------+------------+------------+------------+-----------+-----+-------+----------+------------+---------------------+------------+--------------------+---------+---------+------+\n",
            "only showing top 20 rows\n",
            "\n"
          ],
          "name": "stdout"
        }
      ]
    },
    {
      "cell_type": "code",
      "metadata": {
        "id": "fuJz25QY90RG",
        "outputId": "07f75f31-04ca-4e29-90ac-cff607dc4774"
      },
      "source": [
        "# count high out of range values\n",
        "spark.sql(\"\"\"\n",
        "            SELECT *\n",
        "            FROM data_init_view\n",
        "            WHERE pickup_datetime > \"2019-12-31 23:59:59\" \n",
        "        \"\"\").count()"
      ],
      "execution_count": null,
      "outputs": [
        {
          "output_type": "execute_result",
          "data": {
            "text/plain": [
              "2"
            ]
          },
          "metadata": {
            "tags": []
          },
          "execution_count": 44
        }
      ]
    },
    {
      "cell_type": "code",
      "metadata": {
        "id": "ICI273yZ90RG",
        "outputId": "f4cb9f6c-c071-4bbe-f9bc-9ee05152689f"
      },
      "source": [
        "# count low out of range values\n",
        "spark.sql(\"\"\"\n",
        "            SELECT *\n",
        "            FROM data_init_view\n",
        "            WHERE pickup_datetime < \"2019-01-01 00:00:00\"\n",
        "        \"\"\").count()"
      ],
      "execution_count": null,
      "outputs": [
        {
          "output_type": "execute_result",
          "data": {
            "text/plain": [
              "441"
            ]
          },
          "metadata": {
            "tags": []
          },
          "execution_count": 45
        }
      ]
    },
    {
      "cell_type": "code",
      "metadata": {
        "id": "5BZQVBu590RH",
        "outputId": "f71bee7d-650e-4c5f-8b6b-61eb6da5000b"
      },
      "source": [
        "spark.sql(\"\"\"\n",
        "            SELECT *\n",
        "            FROM data_init_view\n",
        "            WHERE dropoff_datetime < \"2019-01-01 00:00:00\"\n",
        "        \"\"\").count()"
      ],
      "execution_count": null,
      "outputs": [
        {
          "output_type": "execute_result",
          "data": {
            "text/plain": [
              "316"
            ]
          },
          "metadata": {
            "tags": []
          },
          "execution_count": 46
        }
      ]
    },
    {
      "cell_type": "code",
      "metadata": {
        "id": "S10kojGp90RI",
        "outputId": "59699093-9e72-4ce6-c122-fd30709119b0"
      },
      "source": [
        "spark.sql(\"\"\"\n",
        "            SELECT *\n",
        "            FROM data_init_view\n",
        "            WHERE dropoff_datetime > \"2019-01-31 23:59:59\" \n",
        "            ORDER BY dropoff_datetime\n",
        "        \"\"\").count()"
      ],
      "execution_count": null,
      "outputs": [
        {
          "output_type": "execute_result",
          "data": {
            "text/plain": [
              "3011"
            ]
          },
          "metadata": {
            "tags": []
          },
          "execution_count": 48
        }
      ]
    },
    {
      "cell_type": "code",
      "metadata": {
        "id": "XzXQpyBs90RJ",
        "outputId": "1f16a91a-fd43-4768-9b71-2ecd1fd52401"
      },
      "source": [
        "# investigate nye values\n",
        "spark.sql(\"\"\"\n",
        "            SELECT *\n",
        "            FROM data_init_view\n",
        "            WHERE dropoff_datetime > \"2019-01-31 23:59:59\"\n",
        "            AND pickup_datetime < \"2019-01-31 23:59:59\" \n",
        "            ORDER BY dropoff_datetime\n",
        "        \"\"\").count()"
      ],
      "execution_count": null,
      "outputs": [
        {
          "output_type": "execute_result",
          "data": {
            "text/plain": [
              "2915"
            ]
          },
          "metadata": {
            "tags": []
          },
          "execution_count": 49
        }
      ]
    },
    {
      "cell_type": "code",
      "metadata": {
        "id": "9Tg-KxOm90RK",
        "outputId": "fcd377ad-971a-409e-8313-08f21a3cb3f8"
      },
      "source": [
        "# show a candiate value to evaluate\n",
        "spark.sql(\"\"\"\n",
        "            SELECT *\n",
        "            FROM data_init_view\n",
        "            WHERE dropoff_datetime > \"2020-01-01 23:59:59\"\n",
        "            AND pickup_datetime < \"2019-12-31 23:59:59\" \n",
        "            ORDER BY dropoff_datetime\n",
        "        \"\"\").show()"
      ],
      "execution_count": null,
      "outputs": [
        {
          "output_type": "stream",
          "text": [
            "+--------+---------------+----------------+---------------+-------------+----------+------------------+------------+------------+------------+-----------+-----+-------+----------+------------+---------------------+------------+--------------------+---------+---------+------+\n",
            "|VendorID|pickup_datetime|dropoff_datetime|passenger_count|trip_distance|RatecodeID|store_and_fwd_flag|PULocationID|DOLocationID|payment_type|fare_amount|extra|mta_tax|tip_amount|tolls_amount|improvement_surcharge|total_amount|congestion_surcharge|trip_type|ehail_fee|colour|\n",
            "+--------+---------------+----------------+---------------+-------------+----------+------------------+------------+------------+------------+-----------+-----+-------+----------+------------+---------------------+------------+--------------------+---------+---------+------+\n",
            "+--------+---------------+----------------+---------------+-------------+----------+------------------+------------+------------+------------+-----------+-----+-------+----------+------------+---------------------+------------+--------------------+---------+---------+------+\n",
            "\n"
          ],
          "name": "stdout"
        }
      ]
    },
    {
      "cell_type": "code",
      "metadata": {
        "id": "O8Zrtrgq90RL"
      },
      "source": [
        ""
      ],
      "execution_count": null,
      "outputs": []
    },
    {
      "cell_type": "code",
      "metadata": {
        "id": "PzMXM22890RM",
        "outputId": "da90902b-bee4-4595-cab1-41ec37a3ef48"
      },
      "source": [
        "# count where pickup location was unknown\n",
        "spark.sql(\"\"\"\n",
        "            SELECT PULocationID, count(PULocationID) AS count\n",
        "            FROM data_init_view\n",
        "            WHERE PULocationID = \"264\"\n",
        "            OR PULocationID = \"265\"\n",
        "            GROUP by PULocationID\n",
        "            ORDER BY count DESC\n",
        "        \"\"\").show()"
      ],
      "execution_count": null,
      "outputs": [
        {
          "output_type": "stream",
          "text": [
            "+------------+------+\n",
            "|PULocationID| count|\n",
            "+------------+------+\n",
            "|         264|159760|\n",
            "|         265|  3871|\n",
            "+------------+------+\n",
            "\n"
          ],
          "name": "stdout"
        }
      ]
    },
    {
      "cell_type": "code",
      "metadata": {
        "id": "B8OpVcvd90RM",
        "outputId": "a3e44ed7-5ef9-443c-c0db-abe9856d7da9"
      },
      "source": [
        "# and for dropoff\n",
        "spark.sql(\"\"\"\n",
        "            SELECT DOLocationID, count(DOLocationID) AS count\n",
        "            FROM data_init_view\n",
        "            WHERE DOLocationID = \"264\"\n",
        "            OR DOLocationID = \"265\"\n",
        "            GROUP by DOLocationID\n",
        "            ORDER BY count DESC\n",
        "        \"\"\").show()"
      ],
      "execution_count": null,
      "outputs": [
        {
          "output_type": "stream",
          "text": [
            "+------------+------+\n",
            "|DOLocationID| count|\n",
            "+------------+------+\n",
            "|         264|149094|\n",
            "|         265| 16817|\n",
            "+------------+------+\n",
            "\n"
          ],
          "name": "stdout"
        }
      ]
    },
    {
      "cell_type": "code",
      "metadata": {
        "id": "MhiYOqX_90RN",
        "outputId": "aa5388b7-0f1a-4a43-9e1f-68d853406ad3"
      },
      "source": [
        "# count where pu location was 264 unknown as was dropoff\n",
        "spark.sql(\"\"\"\n",
        "            SELECT DOLocationID, count(DOLocationID) AS count\n",
        "            FROM data_init_view\n",
        "            WHERE PULocationID = \"264\"\n",
        "            AND DOLocationID = \"264\"\n",
        "            GROUP by DOLocationID\n",
        "            ORDER BY count DESC\n",
        "        \"\"\").show()"
      ],
      "execution_count": null,
      "outputs": [
        {
          "output_type": "stream",
          "text": [
            "+------------+------+\n",
            "|DOLocationID| count|\n",
            "+------------+------+\n",
            "|         264|138614|\n",
            "+------------+------+\n",
            "\n"
          ],
          "name": "stdout"
        }
      ]
    },
    {
      "cell_type": "code",
      "metadata": {
        "id": "sYeAn_Um90RO",
        "outputId": "938d94d1-8738-42d0-b92f-ec5cc8de9acd"
      },
      "source": [
        "# where pickup was other unknown but dropoff was not\n",
        "spark.sql(\"\"\"\n",
        "            SELECT *\n",
        "            FROM data_init_view\n",
        "            WHERE PULocationID = \"265\"\n",
        "            AND DOLocationID != \"264\"\n",
        "            AND DOLocationID != \"265\"\n",
        "        \"\"\").count()"
      ],
      "execution_count": null,
      "outputs": [
        {
          "output_type": "execute_result",
          "data": {
            "text/plain": [
              "811"
            ]
          },
          "metadata": {
            "tags": []
          },
          "execution_count": 53
        }
      ]
    },
    {
      "cell_type": "code",
      "metadata": {
        "id": "nr5JFwbI90RP",
        "outputId": "fa24a116-e41d-421e-e2ff-da0b9426e788"
      },
      "source": [
        "# where dropoff was  unknown but pickup was not\n",
        "spark.sql(\"\"\"\n",
        "            SELECT *\n",
        "            FROM data_init_view\n",
        "            WHERE DOLocationID = \"265\"\n",
        "            AND PULocationID != \"264\"\n",
        "            AND PULocationID != \"265\"\n",
        "        \"\"\").count()"
      ],
      "execution_count": null,
      "outputs": [
        {
          "output_type": "execute_result",
          "data": {
            "text/plain": [
              "13316"
            ]
          },
          "metadata": {
            "tags": []
          },
          "execution_count": 54
        }
      ]
    },
    {
      "cell_type": "code",
      "metadata": {
        "id": "CWxy_2BT90RP",
        "outputId": "69be2951-93cd-485e-825f-57ea5ccbe319"
      },
      "source": [
        "spark.sql(\"\"\"\n",
        "            SELECT *\n",
        "            FROM data_init_view\n",
        "            WHERE DOLocationID = \"264\"\n",
        "            AND PULocationID != \"264\"\n",
        "            AND PULocationID != \"265\"\n",
        "        \"\"\").count()"
      ],
      "execution_count": null,
      "outputs": [
        {
          "output_type": "execute_result",
          "data": {
            "text/plain": [
              "10454"
            ]
          },
          "metadata": {
            "tags": []
          },
          "execution_count": 55
        }
      ]
    },
    {
      "cell_type": "code",
      "metadata": {
        "id": "GOsF9dQz90RQ",
        "outputId": "0fea611f-5ca9-4d87-fe78-e47578db657b"
      },
      "source": [
        "spark.sql(\"\"\"\n",
        "            SELECT *\n",
        "            FROM data_init_view\n",
        "            WHERE DOLocationID = \"265\"\n",
        "            AND PULocationID = \"265\"\n",
        "        \"\"\").count()"
      ],
      "execution_count": null,
      "outputs": [
        {
          "output_type": "execute_result",
          "data": {
            "text/plain": [
              "3034"
            ]
          },
          "metadata": {
            "tags": []
          },
          "execution_count": 56
        }
      ]
    },
    {
      "cell_type": "code",
      "metadata": {
        "id": "-X4Hz0Bk90RR",
        "outputId": "855f8ebe-e502-438d-ae06-71a80a36b4c9"
      },
      "source": [
        "data.printSchema()"
      ],
      "execution_count": null,
      "outputs": [
        {
          "output_type": "stream",
          "text": [
            "root\n",
            " |-- VendorID: string (nullable = true)\n",
            " |-- pickup_datetime: string (nullable = true)\n",
            " |-- dropoff_datetime: string (nullable = true)\n",
            " |-- passenger_count: string (nullable = true)\n",
            " |-- trip_distance: string (nullable = true)\n",
            " |-- RatecodeID: string (nullable = true)\n",
            " |-- store_and_fwd_flag: string (nullable = true)\n",
            " |-- PULocationID: string (nullable = true)\n",
            " |-- DOLocationID: string (nullable = true)\n",
            " |-- payment_type: string (nullable = true)\n",
            " |-- fare_amount: string (nullable = true)\n",
            " |-- extra: string (nullable = true)\n",
            " |-- mta_tax: string (nullable = true)\n",
            " |-- tip_amount: string (nullable = true)\n",
            " |-- tolls_amount: string (nullable = true)\n",
            " |-- improvement_surcharge: string (nullable = true)\n",
            " |-- total_amount: string (nullable = true)\n",
            " |-- congestion_surcharge: string (nullable = true)\n",
            " |-- trip_type: string (nullable = false)\n",
            " |-- ehail_fee: string (nullable = false)\n",
            " |-- colour: string (nullable = false)\n",
            "\n"
          ],
          "name": "stdout"
        }
      ]
    },
    {
      "cell_type": "code",
      "metadata": {
        "id": "-2USFaK990RS"
      },
      "source": [
        "spark.catalog.dropTempView(\"data_init_view\")"
      ],
      "execution_count": null,
      "outputs": []
    }
  ]
}